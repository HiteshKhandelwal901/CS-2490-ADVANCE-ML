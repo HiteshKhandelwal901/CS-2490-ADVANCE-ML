{
 "cells": [
  {
   "cell_type": "code",
   "execution_count": 1,
   "id": "polished-novel",
   "metadata": {},
   "outputs": [],
   "source": [
    "import pandas as pd\n",
    "from sklearn.feature_extraction.text import CountVectorizer\n",
    "from sklearn.model_selection import train_test_split\n",
    "import re\n",
    "from nltk.corpus import stopwords\n",
    "import warnings\n",
    "from nltk.stem.snowball import SnowballStemmer\n",
    "from sklearn.multiclass import OneVsRestClassifier\n",
    "from sklearn.linear_model import LogisticRegression\n",
    "import pandas_profiling as pp\n",
    "import seaborn as sns\n",
    "import matplotlib as plt\n"
   ]
  },
  {
   "cell_type": "code",
   "execution_count": 2,
   "id": "bulgarian-phenomenon",
   "metadata": {},
   "outputs": [],
   "source": [
    "#Preprocessing :\n",
    "\"\"\"\n",
    "1- removing spaces that are not required\n",
    "2- converting upper to lower\n",
    "3- removing stopwords in english\n",
    "4- combing all labels into one\n",
    "\"\"\"\n",
    "\n",
    "\n",
    "df = pd.read_csv(\"blogtext.csv\",nrows=100000)\n",
    "pattern = \"[^\\w ]\"\n",
    "df.text = df.text.apply(lambda s : re.sub(pattern,\"\",s))\n",
    "\n",
    "\n",
    "df.text = df.text.apply(lambda s: s.lower())\n",
    "df.text = df.text.apply(lambda s: s.strip())\n",
    "\n",
    "\n",
    "stopwords=set(stopwords.words('english'))\n",
    "df.text = df.text.apply(lambda t: ' '.join([words for words in t.split() if words not in stopwords]))\n",
    "df.drop(['id','date'], axis=1,inplace=True)\n",
    "                                   \n",
    "df['labels'] = df.apply(lambda col : [col['gender'],col['age']], axis=1)\n",
    "df.drop(columns=['gender','age','topic','sign'], axis=1, inplace=True)                                  \n",
    "                                \n",
    "                                  "
   ]
  },
  {
   "cell_type": "code",
   "execution_count": 3,
   "id": "overall-investor",
   "metadata": {},
   "outputs": [],
   "source": [
    "X= df.text\n",
    "y = df.labels\n",
    "X_train, X_test, y_train, y_test = train_test_split(X,y, random_state=2,test_size = 0.2)"
   ]
  },
  {
   "cell_type": "code",
   "execution_count": 4,
   "id": "resistant-conclusion",
   "metadata": {},
   "outputs": [
    {
     "name": "stderr",
     "output_type": "stream",
     "text": [
      "C:\\Users\\MSI\\anaconda3\\lib\\site-packages\\sklearn\\preprocessing\\_label.py:860: UserWarning: unknown class(es) [13, 14, 15, 16, 17, 23, 24, 25, 26, 27, 33, 34, 35, 36, 37, 38, 39, 40, 41, 42, 43, 44, 45, 46, 47, 48] will be ignored\n",
      "  warnings.warn('unknown class(es) {0} will be ignored'\n",
      "C:\\Users\\MSI\\anaconda3\\lib\\site-packages\\sklearn\\multiclass.py:80: UserWarning: Label not 0 is present in all training examples.\n",
      "  warnings.warn(\"Label %s is present in all training examples.\" %\n",
      "C:\\Users\\MSI\\anaconda3\\lib\\site-packages\\sklearn\\multiclass.py:80: UserWarning: Label not 1 is present in all training examples.\n",
      "  warnings.warn(\"Label %s is present in all training examples.\" %\n",
      "C:\\Users\\MSI\\anaconda3\\lib\\site-packages\\sklearn\\multiclass.py:80: UserWarning: Label not 2 is present in all training examples.\n",
      "  warnings.warn(\"Label %s is present in all training examples.\" %\n",
      "C:\\Users\\MSI\\anaconda3\\lib\\site-packages\\sklearn\\multiclass.py:80: UserWarning: Label not 3 is present in all training examples.\n",
      "  warnings.warn(\"Label %s is present in all training examples.\" %\n",
      "C:\\Users\\MSI\\anaconda3\\lib\\site-packages\\sklearn\\multiclass.py:80: UserWarning: Label not 4 is present in all training examples.\n",
      "  warnings.warn(\"Label %s is present in all training examples.\" %\n",
      "C:\\Users\\MSI\\anaconda3\\lib\\site-packages\\sklearn\\multiclass.py:80: UserWarning: Label not 5 is present in all training examples.\n",
      "  warnings.warn(\"Label %s is present in all training examples.\" %\n",
      "C:\\Users\\MSI\\anaconda3\\lib\\site-packages\\sklearn\\multiclass.py:80: UserWarning: Label not 6 is present in all training examples.\n",
      "  warnings.warn(\"Label %s is present in all training examples.\" %\n",
      "C:\\Users\\MSI\\anaconda3\\lib\\site-packages\\sklearn\\multiclass.py:80: UserWarning: Label not 7 is present in all training examples.\n",
      "  warnings.warn(\"Label %s is present in all training examples.\" %\n",
      "C:\\Users\\MSI\\anaconda3\\lib\\site-packages\\sklearn\\multiclass.py:80: UserWarning: Label not 8 is present in all training examples.\n",
      "  warnings.warn(\"Label %s is present in all training examples.\" %\n",
      "C:\\Users\\MSI\\anaconda3\\lib\\site-packages\\sklearn\\multiclass.py:80: UserWarning: Label not 9 is present in all training examples.\n",
      "  warnings.warn(\"Label %s is present in all training examples.\" %\n",
      "C:\\Users\\MSI\\anaconda3\\lib\\site-packages\\sklearn\\multiclass.py:80: UserWarning: Label not 10 is present in all training examples.\n",
      "  warnings.warn(\"Label %s is present in all training examples.\" %\n",
      "C:\\Users\\MSI\\anaconda3\\lib\\site-packages\\sklearn\\multiclass.py:80: UserWarning: Label not 11 is present in all training examples.\n",
      "  warnings.warn(\"Label %s is present in all training examples.\" %\n",
      "C:\\Users\\MSI\\anaconda3\\lib\\site-packages\\sklearn\\multiclass.py:80: UserWarning: Label not 12 is present in all training examples.\n",
      "  warnings.warn(\"Label %s is present in all training examples.\" %\n",
      "C:\\Users\\MSI\\anaconda3\\lib\\site-packages\\sklearn\\multiclass.py:80: UserWarning: Label not 13 is present in all training examples.\n",
      "  warnings.warn(\"Label %s is present in all training examples.\" %\n",
      "C:\\Users\\MSI\\anaconda3\\lib\\site-packages\\sklearn\\multiclass.py:80: UserWarning: Label not 14 is present in all training examples.\n",
      "  warnings.warn(\"Label %s is present in all training examples.\" %\n",
      "C:\\Users\\MSI\\anaconda3\\lib\\site-packages\\sklearn\\multiclass.py:80: UserWarning: Label not 15 is present in all training examples.\n",
      "  warnings.warn(\"Label %s is present in all training examples.\" %\n",
      "C:\\Users\\MSI\\anaconda3\\lib\\site-packages\\sklearn\\multiclass.py:80: UserWarning: Label not 16 is present in all training examples.\n",
      "  warnings.warn(\"Label %s is present in all training examples.\" %\n",
      "C:\\Users\\MSI\\anaconda3\\lib\\site-packages\\sklearn\\multiclass.py:80: UserWarning: Label not 17 is present in all training examples.\n",
      "  warnings.warn(\"Label %s is present in all training examples.\" %\n",
      "C:\\Users\\MSI\\anaconda3\\lib\\site-packages\\sklearn\\multiclass.py:80: UserWarning: Label not 18 is present in all training examples.\n",
      "  warnings.warn(\"Label %s is present in all training examples.\" %\n",
      "C:\\Users\\MSI\\anaconda3\\lib\\site-packages\\sklearn\\multiclass.py:80: UserWarning: Label not 19 is present in all training examples.\n",
      "  warnings.warn(\"Label %s is present in all training examples.\" %\n",
      "C:\\Users\\MSI\\anaconda3\\lib\\site-packages\\sklearn\\multiclass.py:80: UserWarning: Label not 20 is present in all training examples.\n",
      "  warnings.warn(\"Label %s is present in all training examples.\" %\n",
      "C:\\Users\\MSI\\anaconda3\\lib\\site-packages\\sklearn\\multiclass.py:80: UserWarning: Label not 21 is present in all training examples.\n",
      "  warnings.warn(\"Label %s is present in all training examples.\" %\n",
      "C:\\Users\\MSI\\anaconda3\\lib\\site-packages\\sklearn\\multiclass.py:80: UserWarning: Label not 22 is present in all training examples.\n",
      "  warnings.warn(\"Label %s is present in all training examples.\" %\n",
      "C:\\Users\\MSI\\anaconda3\\lib\\site-packages\\sklearn\\multiclass.py:80: UserWarning: Label not 23 is present in all training examples.\n",
      "  warnings.warn(\"Label %s is present in all training examples.\" %\n",
      "C:\\Users\\MSI\\anaconda3\\lib\\site-packages\\sklearn\\multiclass.py:80: UserWarning: Label not 24 is present in all training examples.\n",
      "  warnings.warn(\"Label %s is present in all training examples.\" %\n",
      "C:\\Users\\MSI\\anaconda3\\lib\\site-packages\\sklearn\\multiclass.py:80: UserWarning: Label not 25 is present in all training examples.\n",
      "  warnings.warn(\"Label %s is present in all training examples.\" %\n",
      "C:\\Users\\MSI\\anaconda3\\lib\\site-packages\\sklearn\\linear_model\\_logistic.py:763: ConvergenceWarning: lbfgs failed to converge (status=1):\n",
      "STOP: TOTAL NO. of ITERATIONS REACHED LIMIT.\n",
      "\n",
      "Increase the number of iterations (max_iter) or scale the data as shown in:\n",
      "    https://scikit-learn.org/stable/modules/preprocessing.html\n",
      "Please also refer to the documentation for alternative solver options:\n",
      "    https://scikit-learn.org/stable/modules/linear_model.html#logistic-regression\n",
      "  n_iter_i = _check_optimize_result(\n",
      "C:\\Users\\MSI\\anaconda3\\lib\\site-packages\\sklearn\\linear_model\\_logistic.py:763: ConvergenceWarning: lbfgs failed to converge (status=1):\n",
      "STOP: TOTAL NO. of ITERATIONS REACHED LIMIT.\n",
      "\n",
      "Increase the number of iterations (max_iter) or scale the data as shown in:\n",
      "    https://scikit-learn.org/stable/modules/preprocessing.html\n",
      "Please also refer to the documentation for alternative solver options:\n",
      "    https://scikit-learn.org/stable/modules/linear_model.html#logistic-regression\n",
      "  n_iter_i = _check_optimize_result(\n"
     ]
    },
    {
     "data": {
      "text/plain": [
       "OneVsRestClassifier(estimator=LogisticRegression())"
      ]
     },
     "execution_count": 4,
     "metadata": {},
     "output_type": "execute_result"
    }
   ],
   "source": [
    "count_vector = CountVectorizer(ngram_range=(1,2))\n",
    "count_vector.fit(X_train)\n",
    "\n",
    "X_train_count = count_vector.transform(X_train)\n",
    "x_test_count = count_vector.transform(X_test)\n",
    "\n",
    "\n",
    "lcs=dict()\n",
    "\n",
    "for labels in df.labels.values:\n",
    "    for label in labels:\n",
    "        if label in lcs:\n",
    "            lcs[str(label)]+=1\n",
    "        else:\n",
    "            lcs[str(label)]=1\n",
    "            \n",
    "            \n",
    "from sklearn.preprocessing import MultiLabelBinarizer\n",
    "binarizer=MultiLabelBinarizer(classes=sorted(lcs.keys()))\n",
    "\n",
    "y_train = binarizer.fit_transform(y_train)\n",
    "y_test = binarizer.transform(y_test)\n",
    "\n",
    "model=LogisticRegression(solver='lbfgs', max_iter=100)\n",
    "model=OneVsRestClassifier(model)\n",
    "model.fit(X_train_count,y_train)"
   ]
  },
  {
   "cell_type": "code",
   "execution_count": 6,
   "id": "acoustic-tolerance",
   "metadata": {},
   "outputs": [],
   "source": [
    "Ypred=model.predict(x_test_count)"
   ]
  },
  {
   "cell_type": "code",
   "execution_count": 8,
   "id": "dominant-orbit",
   "metadata": {},
   "outputs": [
    {
     "name": "stdout",
     "output_type": "stream",
     "text": [
      "Accuracy score:  0.64865\n",
      "F1 score: Micro 0.7120783818645882\n",
      "precision score 0.5244990842741549\n",
      "recall score 0.64865\n"
     ]
    }
   ],
   "source": [
    "from sklearn.metrics import accuracy_score\n",
    "from sklearn.metrics import f1_score\n",
    "from sklearn.metrics import average_precision_score\n",
    "from sklearn.metrics import recall_score\n",
    "\n",
    "def metrics(Ytest, Ypred):\n",
    "    print('Accuracy score: ', accuracy_score(Ytest, Ypred))\n",
    "    print('F1 score: Micro', f1_score(Ytest, Ypred, average='micro'))\n",
    "    print('precision score', average_precision_score(Ytest, Ypred, average='micro'))\n",
    "    print('recall score', recall_score(Ytest, Ypred, average='micro'))\n",
    "    \n",
    "    \n",
    "\n",
    "metrics(y_test,Ypred)   "
   ]
  },
  {
   "cell_type": "code",
   "execution_count": 24,
   "id": "christian-transition",
   "metadata": {},
   "outputs": [
    {
     "data": {
      "text/plain": [
       "<80000x4517090 sparse matrix of type '<class 'numpy.int64'>'\n",
       "\twith 13894625 stored elements in Compressed Sparse Row format>"
      ]
     },
     "execution_count": 24,
     "metadata": {},
     "output_type": "execute_result"
    }
   ],
   "source": []
  },
  {
   "cell_type": "code",
   "execution_count": 25,
   "id": "traditional-financing",
   "metadata": {},
   "outputs": [],
   "source": []
  },
  {
   "cell_type": "code",
   "execution_count": 27,
   "id": "governmental-concern",
   "metadata": {},
   "outputs": [],
   "source": []
  },
  {
   "cell_type": "code",
   "execution_count": 28,
   "id": "charming-history",
   "metadata": {},
   "outputs": [
    {
     "data": {
      "text/plain": [
       "{'male': 53358,\n",
       " '15': 1,\n",
       " '33': 1,\n",
       " 'female': 46642,\n",
       " '14': 1,\n",
       " '25': 1,\n",
       " '17': 1,\n",
       " '23': 1,\n",
       " '37': 1,\n",
       " '26': 1,\n",
       " '24': 1,\n",
       " '27': 1,\n",
       " '45': 1,\n",
       " '34': 1,\n",
       " '41': 1,\n",
       " '44': 1,\n",
       " '16': 1,\n",
       " '39': 1,\n",
       " '35': 1,\n",
       " '36': 1,\n",
       " '46': 1,\n",
       " '42': 1,\n",
       " '13': 1,\n",
       " '38': 1,\n",
       " '43': 1,\n",
       " '40': 1,\n",
       " '47': 1,\n",
       " '48': 1}"
      ]
     },
     "execution_count": 28,
     "metadata": {},
     "output_type": "execute_result"
    }
   ],
   "source": [
    "label_counts"
   ]
  },
  {
   "cell_type": "code",
   "execution_count": 29,
   "id": "dominant-mobile",
   "metadata": {},
   "outputs": [],
   "source": []
  },
  {
   "cell_type": "code",
   "execution_count": 30,
   "id": "horizontal-edmonton",
   "metadata": {},
   "outputs": [
    {
     "name": "stderr",
     "output_type": "stream",
     "text": [
      "C:\\Users\\MSI\\anaconda3\\lib\\site-packages\\sklearn\\preprocessing\\_label.py:860: UserWarning: unknown class(es) [13, 14, 15, 16, 17, 23, 24, 25, 26, 27, 33, 34, 35, 36, 37, 38, 39, 40, 41, 42, 43, 44, 45, 46, 47, 48] will be ignored\n",
      "  warnings.warn('unknown class(es) {0} will be ignored'\n"
     ]
    }
   ],
   "source": []
  },
  {
   "cell_type": "code",
   "execution_count": 31,
   "id": "unknown-source",
   "metadata": {},
   "outputs": [],
   "source": []
  },
  {
   "cell_type": "code",
   "execution_count": 32,
   "id": "collectible-biodiversity",
   "metadata": {},
   "outputs": [],
   "source": []
  },
  {
   "cell_type": "code",
   "execution_count": 33,
   "id": "loose-regulation",
   "metadata": {},
   "outputs": [
    {
     "name": "stderr",
     "output_type": "stream",
     "text": [
      "C:\\Users\\MSI\\anaconda3\\lib\\site-packages\\sklearn\\multiclass.py:80: UserWarning: Label not 0 is present in all training examples.\n",
      "  warnings.warn(\"Label %s is present in all training examples.\" %\n",
      "C:\\Users\\MSI\\anaconda3\\lib\\site-packages\\sklearn\\multiclass.py:80: UserWarning: Label not 1 is present in all training examples.\n",
      "  warnings.warn(\"Label %s is present in all training examples.\" %\n",
      "C:\\Users\\MSI\\anaconda3\\lib\\site-packages\\sklearn\\multiclass.py:80: UserWarning: Label not 2 is present in all training examples.\n",
      "  warnings.warn(\"Label %s is present in all training examples.\" %\n",
      "C:\\Users\\MSI\\anaconda3\\lib\\site-packages\\sklearn\\multiclass.py:80: UserWarning: Label not 3 is present in all training examples.\n",
      "  warnings.warn(\"Label %s is present in all training examples.\" %\n",
      "C:\\Users\\MSI\\anaconda3\\lib\\site-packages\\sklearn\\multiclass.py:80: UserWarning: Label not 4 is present in all training examples.\n",
      "  warnings.warn(\"Label %s is present in all training examples.\" %\n",
      "C:\\Users\\MSI\\anaconda3\\lib\\site-packages\\sklearn\\multiclass.py:80: UserWarning: Label not 5 is present in all training examples.\n",
      "  warnings.warn(\"Label %s is present in all training examples.\" %\n",
      "C:\\Users\\MSI\\anaconda3\\lib\\site-packages\\sklearn\\multiclass.py:80: UserWarning: Label not 6 is present in all training examples.\n",
      "  warnings.warn(\"Label %s is present in all training examples.\" %\n",
      "C:\\Users\\MSI\\anaconda3\\lib\\site-packages\\sklearn\\multiclass.py:80: UserWarning: Label not 7 is present in all training examples.\n",
      "  warnings.warn(\"Label %s is present in all training examples.\" %\n",
      "C:\\Users\\MSI\\anaconda3\\lib\\site-packages\\sklearn\\multiclass.py:80: UserWarning: Label not 8 is present in all training examples.\n",
      "  warnings.warn(\"Label %s is present in all training examples.\" %\n",
      "C:\\Users\\MSI\\anaconda3\\lib\\site-packages\\sklearn\\multiclass.py:80: UserWarning: Label not 9 is present in all training examples.\n",
      "  warnings.warn(\"Label %s is present in all training examples.\" %\n",
      "C:\\Users\\MSI\\anaconda3\\lib\\site-packages\\sklearn\\multiclass.py:80: UserWarning: Label not 10 is present in all training examples.\n",
      "  warnings.warn(\"Label %s is present in all training examples.\" %\n",
      "C:\\Users\\MSI\\anaconda3\\lib\\site-packages\\sklearn\\multiclass.py:80: UserWarning: Label not 11 is present in all training examples.\n",
      "  warnings.warn(\"Label %s is present in all training examples.\" %\n",
      "C:\\Users\\MSI\\anaconda3\\lib\\site-packages\\sklearn\\multiclass.py:80: UserWarning: Label not 12 is present in all training examples.\n",
      "  warnings.warn(\"Label %s is present in all training examples.\" %\n",
      "C:\\Users\\MSI\\anaconda3\\lib\\site-packages\\sklearn\\multiclass.py:80: UserWarning: Label not 13 is present in all training examples.\n",
      "  warnings.warn(\"Label %s is present in all training examples.\" %\n",
      "C:\\Users\\MSI\\anaconda3\\lib\\site-packages\\sklearn\\multiclass.py:80: UserWarning: Label not 14 is present in all training examples.\n",
      "  warnings.warn(\"Label %s is present in all training examples.\" %\n",
      "C:\\Users\\MSI\\anaconda3\\lib\\site-packages\\sklearn\\multiclass.py:80: UserWarning: Label not 15 is present in all training examples.\n",
      "  warnings.warn(\"Label %s is present in all training examples.\" %\n",
      "C:\\Users\\MSI\\anaconda3\\lib\\site-packages\\sklearn\\multiclass.py:80: UserWarning: Label not 16 is present in all training examples.\n",
      "  warnings.warn(\"Label %s is present in all training examples.\" %\n",
      "C:\\Users\\MSI\\anaconda3\\lib\\site-packages\\sklearn\\multiclass.py:80: UserWarning: Label not 17 is present in all training examples.\n",
      "  warnings.warn(\"Label %s is present in all training examples.\" %\n",
      "C:\\Users\\MSI\\anaconda3\\lib\\site-packages\\sklearn\\multiclass.py:80: UserWarning: Label not 18 is present in all training examples.\n",
      "  warnings.warn(\"Label %s is present in all training examples.\" %\n",
      "C:\\Users\\MSI\\anaconda3\\lib\\site-packages\\sklearn\\multiclass.py:80: UserWarning: Label not 19 is present in all training examples.\n",
      "  warnings.warn(\"Label %s is present in all training examples.\" %\n",
      "C:\\Users\\MSI\\anaconda3\\lib\\site-packages\\sklearn\\multiclass.py:80: UserWarning: Label not 20 is present in all training examples.\n",
      "  warnings.warn(\"Label %s is present in all training examples.\" %\n",
      "C:\\Users\\MSI\\anaconda3\\lib\\site-packages\\sklearn\\multiclass.py:80: UserWarning: Label not 21 is present in all training examples.\n",
      "  warnings.warn(\"Label %s is present in all training examples.\" %\n",
      "C:\\Users\\MSI\\anaconda3\\lib\\site-packages\\sklearn\\multiclass.py:80: UserWarning: Label not 22 is present in all training examples.\n",
      "  warnings.warn(\"Label %s is present in all training examples.\" %\n",
      "C:\\Users\\MSI\\anaconda3\\lib\\site-packages\\sklearn\\multiclass.py:80: UserWarning: Label not 23 is present in all training examples.\n",
      "  warnings.warn(\"Label %s is present in all training examples.\" %\n",
      "C:\\Users\\MSI\\anaconda3\\lib\\site-packages\\sklearn\\multiclass.py:80: UserWarning: Label not 24 is present in all training examples.\n",
      "  warnings.warn(\"Label %s is present in all training examples.\" %\n",
      "C:\\Users\\MSI\\anaconda3\\lib\\site-packages\\sklearn\\multiclass.py:80: UserWarning: Label not 25 is present in all training examples.\n",
      "  warnings.warn(\"Label %s is present in all training examples.\" %\n",
      "C:\\Users\\MSI\\anaconda3\\lib\\site-packages\\sklearn\\linear_model\\_logistic.py:763: ConvergenceWarning: lbfgs failed to converge (status=1):\n",
      "STOP: TOTAL NO. of ITERATIONS REACHED LIMIT.\n",
      "\n",
      "Increase the number of iterations (max_iter) or scale the data as shown in:\n",
      "    https://scikit-learn.org/stable/modules/preprocessing.html\n",
      "Please also refer to the documentation for alternative solver options:\n",
      "    https://scikit-learn.org/stable/modules/linear_model.html#logistic-regression\n",
      "  n_iter_i = _check_optimize_result(\n",
      "C:\\Users\\MSI\\anaconda3\\lib\\site-packages\\sklearn\\linear_model\\_logistic.py:763: ConvergenceWarning: lbfgs failed to converge (status=1):\n",
      "STOP: TOTAL NO. of ITERATIONS REACHED LIMIT.\n",
      "\n",
      "Increase the number of iterations (max_iter) or scale the data as shown in:\n",
      "    https://scikit-learn.org/stable/modules/preprocessing.html\n",
      "Please also refer to the documentation for alternative solver options:\n",
      "    https://scikit-learn.org/stable/modules/linear_model.html#logistic-regression\n",
      "  n_iter_i = _check_optimize_result(\n"
     ]
    },
    {
     "data": {
      "text/plain": [
       "OneVsRestClassifier(estimator=LogisticRegression())"
      ]
     },
     "execution_count": 33,
     "metadata": {},
     "output_type": "execute_result"
    }
   ],
   "source": []
  },
  {
   "cell_type": "code",
   "execution_count": 34,
   "id": "silver-highland",
   "metadata": {},
   "outputs": [],
   "source": []
  },
  {
   "cell_type": "code",
   "execution_count": 37,
   "id": "eligible-holiday",
   "metadata": {},
   "outputs": [],
   "source": [
    "\n",
    "    \n"
   ]
  },
  {
   "cell_type": "code",
   "execution_count": null,
   "id": "affiliated-prerequisite",
   "metadata": {},
   "outputs": [],
   "source": []
  },
  {
   "cell_type": "code",
   "execution_count": null,
   "id": "criminal-video",
   "metadata": {},
   "outputs": [],
   "source": []
  },
  {
   "cell_type": "code",
   "execution_count": null,
   "id": "capital-competition",
   "metadata": {},
   "outputs": [],
   "source": []
  },
  {
   "cell_type": "code",
   "execution_count": null,
   "id": "monthly-plate",
   "metadata": {},
   "outputs": [],
   "source": []
  },
  {
   "cell_type": "code",
   "execution_count": null,
   "id": "finnish-experience",
   "metadata": {},
   "outputs": [],
   "source": []
  },
  {
   "cell_type": "code",
   "execution_count": null,
   "id": "verified-college",
   "metadata": {},
   "outputs": [],
   "source": []
  }
 ],
 "metadata": {
  "kernelspec": {
   "display_name": "Python 3",
   "language": "python",
   "name": "python3"
  },
  "language_info": {
   "codemirror_mode": {
    "name": "ipython",
    "version": 3
   },
   "file_extension": ".py",
   "mimetype": "text/x-python",
   "name": "python",
   "nbconvert_exporter": "python",
   "pygments_lexer": "ipython3",
   "version": "3.8.5"
  }
 },
 "nbformat": 4,
 "nbformat_minor": 5
}
